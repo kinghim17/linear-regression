{
  "nbformat": 4,
  "nbformat_minor": 0,
  "metadata": {
    "colab": {
      "provenance": [],
      "include_colab_link": true
    },
    "kernelspec": {
      "name": "python3",
      "display_name": "Python 3"
    }
  },
  "cells": [
    {
      "cell_type": "markdown",
      "metadata": {
        "id": "view-in-github",
        "colab_type": "text"
      },
      "source": [
        "<a href=\"https://colab.research.google.com/github/kinghim17/regression/blob/main/Copy_of_Artificial_Neural_Network.ipynb\" target=\"_parent\"><img src=\"https://colab.research.google.com/assets/colab-badge.svg\" alt=\"Open In Colab\"/></a>"
      ]
    },
    {
      "cell_type": "markdown",
      "metadata": {
        "id": "3cbb7fRy-eyr"
      },
      "source": [
        "# Artificial Neural Network"
      ]
    },
    {
      "cell_type": "markdown",
      "metadata": {
        "id": "8sNDnxE2-pwE"
      },
      "source": [
        "### Importing the libraries"
      ]
    },
    {
      "cell_type": "code",
      "metadata": {
        "id": "lxChR1Rk-umf"
      },
      "source": [
        "import numpy as np\n",
        "import pandas as pd\n",
        "import tensorflow as tf"
      ],
      "execution_count": 1,
      "outputs": []
    },
    {
      "cell_type": "code",
      "metadata": {
        "id": "uBTqR3nacj0e",
        "colab": {
          "base_uri": "https://localhost:8080/",
          "height": 35
        },
        "outputId": "91d46667-0c6d-416d-da4e-576e6fd83d8e"
      },
      "source": [
        "tf.__version__"
      ],
      "execution_count": 2,
      "outputs": [
        {
          "output_type": "execute_result",
          "data": {
            "text/plain": [
              "'2.15.0'"
            ],
            "application/vnd.google.colaboratory.intrinsic+json": {
              "type": "string"
            }
          },
          "metadata": {},
          "execution_count": 2
        }
      ]
    },
    {
      "cell_type": "markdown",
      "metadata": {
        "id": "AG3FQEch-yuA"
      },
      "source": [
        "## Part 1 - Data Preprocessing"
      ]
    },
    {
      "cell_type": "markdown",
      "metadata": {
        "id": "-4zq8Mza_D9O"
      },
      "source": [
        "### Importing the dataset"
      ]
    },
    {
      "cell_type": "code",
      "metadata": {
        "id": "B9CV13Co_HHM"
      },
      "source": [
        "dataset = pd.read_excel('Folds5x2_pp.xlsx')\n",
        "X = dataset.iloc[:, :-1].values\n",
        "y = dataset.iloc[:, -1].values"
      ],
      "execution_count": 3,
      "outputs": []
    },
    {
      "cell_type": "markdown",
      "metadata": {
        "id": "VC6omXel_Up0"
      },
      "source": [
        "### Splitting the dataset into the Training set and Test set"
      ]
    },
    {
      "cell_type": "code",
      "metadata": {
        "id": "L5edeb2r_agx"
      },
      "source": [
        "from sklearn.model_selection import train_test_split\n",
        "X_train, X_test, y_train, y_test = train_test_split(X, y, test_size = 0.2, random_state = 0)"
      ],
      "execution_count": 4,
      "outputs": []
    },
    {
      "cell_type": "markdown",
      "metadata": {
        "id": "_mSLlAT9_eyI"
      },
      "source": [
        "## Part 2 - Building the ANN"
      ]
    },
    {
      "cell_type": "markdown",
      "metadata": {
        "id": "CsBULd_f_wLY"
      },
      "source": [
        "### Initializing the ANN"
      ]
    },
    {
      "cell_type": "code",
      "metadata": {
        "id": "J6Hd97Ls__Nz"
      },
      "source": [
        "ann = tf.keras.models.Sequential()"
      ],
      "execution_count": 5,
      "outputs": []
    },
    {
      "cell_type": "markdown",
      "metadata": {
        "id": "iitAFJS_ABUn"
      },
      "source": [
        "### Adding the input layer and the first hidden layer"
      ]
    },
    {
      "cell_type": "code",
      "metadata": {
        "id": "ksO_Vv40AHix"
      },
      "source": [
        "ann.add(tf.keras.layers.Dense(units=6, activation='relu'))"
      ],
      "execution_count": 6,
      "outputs": []
    },
    {
      "cell_type": "markdown",
      "metadata": {
        "id": "-lb4kK_wAKbs"
      },
      "source": [
        "### Adding the second hidden layer"
      ]
    },
    {
      "cell_type": "code",
      "metadata": {
        "id": "c2357OqEAQOQ"
      },
      "source": [
        "ann.add(tf.keras.layers.Dense(units=6, activation='relu'))"
      ],
      "execution_count": 7,
      "outputs": []
    },
    {
      "cell_type": "markdown",
      "metadata": {
        "id": "jwMOmKb3AdBY"
      },
      "source": [
        "### Adding the output layer"
      ]
    },
    {
      "cell_type": "code",
      "metadata": {
        "id": "YFATpzsUAkLL"
      },
      "source": [
        "ann.add(tf.keras.layers.Dense(units=1))"
      ],
      "execution_count": 8,
      "outputs": []
    },
    {
      "cell_type": "markdown",
      "metadata": {
        "id": "fq7e4fF6A1yy"
      },
      "source": [
        "## Part 3 - Training the ANN"
      ]
    },
    {
      "cell_type": "markdown",
      "metadata": {
        "id": "qDeylAs2An25"
      },
      "source": [
        "### Compiling the ANN"
      ]
    },
    {
      "cell_type": "code",
      "metadata": {
        "id": "pesgbWlCAtB4"
      },
      "source": [
        "ann.compile(optimizer = 'adam', loss = 'mean_squared_error')"
      ],
      "execution_count": 9,
      "outputs": []
    },
    {
      "cell_type": "markdown",
      "metadata": {
        "id": "YjVuiybYOo7r"
      },
      "source": [
        "### Training the ANN model on the Training set"
      ]
    },
    {
      "cell_type": "code",
      "metadata": {
        "id": "c_vV-tiiA5zn",
        "colab": {
          "base_uri": "https://localhost:8080/"
        },
        "outputId": "db8f6ffb-d374-4562-ab87-66a403a94ff8"
      },
      "source": [
        "ann.fit(X_train, y_train, batch_size = 32, epochs = 100)"
      ],
      "execution_count": 10,
      "outputs": [
        {
          "output_type": "stream",
          "name": "stdout",
          "text": [
            "Epoch 1/100\n",
            "240/240 [==============================] - 1s 2ms/step - loss: 45877.0898\n",
            "Epoch 2/100\n",
            "240/240 [==============================] - 1s 2ms/step - loss: 751.9366\n",
            "Epoch 3/100\n",
            "240/240 [==============================] - 1s 2ms/step - loss: 724.8738\n",
            "Epoch 4/100\n",
            "240/240 [==============================] - 0s 2ms/step - loss: 692.1325\n",
            "Epoch 5/100\n",
            "240/240 [==============================] - 1s 2ms/step - loss: 656.1070\n",
            "Epoch 6/100\n",
            "240/240 [==============================] - 1s 2ms/step - loss: 614.7786\n",
            "Epoch 7/100\n",
            "240/240 [==============================] - 0s 2ms/step - loss: 571.0084\n",
            "Epoch 8/100\n",
            "240/240 [==============================] - 1s 2ms/step - loss: 522.4537\n",
            "Epoch 9/100\n",
            "240/240 [==============================] - 1s 2ms/step - loss: 471.6044\n",
            "Epoch 10/100\n",
            "240/240 [==============================] - 0s 2ms/step - loss: 419.0610\n",
            "Epoch 11/100\n",
            "240/240 [==============================] - 0s 1ms/step - loss: 364.3848\n",
            "Epoch 12/100\n",
            "240/240 [==============================] - 0s 2ms/step - loss: 308.5830\n",
            "Epoch 13/100\n",
            "240/240 [==============================] - 0s 2ms/step - loss: 255.6757\n",
            "Epoch 14/100\n",
            "240/240 [==============================] - 0s 1ms/step - loss: 204.4940\n",
            "Epoch 15/100\n",
            "240/240 [==============================] - 0s 1ms/step - loss: 160.9168\n",
            "Epoch 16/100\n",
            "240/240 [==============================] - 0s 1ms/step - loss: 120.9984\n",
            "Epoch 17/100\n",
            "240/240 [==============================] - 0s 1ms/step - loss: 90.6765\n",
            "Epoch 18/100\n",
            "240/240 [==============================] - 0s 2ms/step - loss: 66.4939\n",
            "Epoch 19/100\n",
            "240/240 [==============================] - 1s 2ms/step - loss: 50.9721\n",
            "Epoch 20/100\n",
            "240/240 [==============================] - 0s 2ms/step - loss: 41.7672\n",
            "Epoch 21/100\n",
            "240/240 [==============================] - 0s 2ms/step - loss: 36.6337\n",
            "Epoch 22/100\n",
            "240/240 [==============================] - 0s 2ms/step - loss: 34.1053\n",
            "Epoch 23/100\n",
            "240/240 [==============================] - 0s 2ms/step - loss: 32.9010\n",
            "Epoch 24/100\n",
            "240/240 [==============================] - 1s 2ms/step - loss: 31.5566\n",
            "Epoch 25/100\n",
            "240/240 [==============================] - 1s 2ms/step - loss: 30.9039\n",
            "Epoch 26/100\n",
            "240/240 [==============================] - 1s 2ms/step - loss: 30.6668\n",
            "Epoch 27/100\n",
            "240/240 [==============================] - 1s 2ms/step - loss: 29.4805\n",
            "Epoch 28/100\n",
            "240/240 [==============================] - 1s 2ms/step - loss: 29.9576\n",
            "Epoch 29/100\n",
            "240/240 [==============================] - 0s 2ms/step - loss: 29.8324\n",
            "Epoch 30/100\n",
            "240/240 [==============================] - 0s 1ms/step - loss: 29.6087\n",
            "Epoch 31/100\n",
            "240/240 [==============================] - 0s 2ms/step - loss: 28.5809\n",
            "Epoch 32/100\n",
            "240/240 [==============================] - 1s 3ms/step - loss: 29.1054\n",
            "Epoch 33/100\n",
            "240/240 [==============================] - 1s 4ms/step - loss: 27.9853\n",
            "Epoch 34/100\n",
            "240/240 [==============================] - 1s 4ms/step - loss: 28.0294\n",
            "Epoch 35/100\n",
            "240/240 [==============================] - 1s 3ms/step - loss: 27.7894\n",
            "Epoch 36/100\n",
            "240/240 [==============================] - 1s 2ms/step - loss: 27.9050\n",
            "Epoch 37/100\n",
            "240/240 [==============================] - 1s 2ms/step - loss: 28.6921\n",
            "Epoch 38/100\n",
            "240/240 [==============================] - 1s 2ms/step - loss: 27.6043\n",
            "Epoch 39/100\n",
            "240/240 [==============================] - 0s 2ms/step - loss: 28.1652\n",
            "Epoch 40/100\n",
            "240/240 [==============================] - 0s 2ms/step - loss: 27.8809\n",
            "Epoch 41/100\n",
            "240/240 [==============================] - 0s 2ms/step - loss: 27.4377\n",
            "Epoch 42/100\n",
            "240/240 [==============================] - 1s 2ms/step - loss: 27.3593\n",
            "Epoch 43/100\n",
            "240/240 [==============================] - 1s 2ms/step - loss: 28.0223\n",
            "Epoch 44/100\n",
            "240/240 [==============================] - 0s 2ms/step - loss: 27.8058\n",
            "Epoch 45/100\n",
            "240/240 [==============================] - 0s 2ms/step - loss: 27.5747\n",
            "Epoch 46/100\n",
            "240/240 [==============================] - 0s 1ms/step - loss: 28.1856\n",
            "Epoch 47/100\n",
            "240/240 [==============================] - 0s 2ms/step - loss: 27.9227\n",
            "Epoch 48/100\n",
            "240/240 [==============================] - 0s 1ms/step - loss: 27.4350\n",
            "Epoch 49/100\n",
            "240/240 [==============================] - 1s 2ms/step - loss: 27.4063\n",
            "Epoch 50/100\n",
            "240/240 [==============================] - 1s 2ms/step - loss: 28.1303\n",
            "Epoch 51/100\n",
            "240/240 [==============================] - 1s 2ms/step - loss: 27.1700\n",
            "Epoch 52/100\n",
            "240/240 [==============================] - 1s 2ms/step - loss: 28.1064\n",
            "Epoch 53/100\n",
            "240/240 [==============================] - 0s 1ms/step - loss: 27.8773\n",
            "Epoch 54/100\n",
            "240/240 [==============================] - 0s 2ms/step - loss: 27.9969\n",
            "Epoch 55/100\n",
            "240/240 [==============================] - 0s 2ms/step - loss: 27.4513\n",
            "Epoch 56/100\n",
            "240/240 [==============================] - 1s 2ms/step - loss: 27.6618\n",
            "Epoch 57/100\n",
            "240/240 [==============================] - 1s 3ms/step - loss: 27.7886\n",
            "Epoch 58/100\n",
            "240/240 [==============================] - 1s 3ms/step - loss: 27.4768\n",
            "Epoch 59/100\n",
            "240/240 [==============================] - 1s 3ms/step - loss: 27.7291\n",
            "Epoch 60/100\n",
            "240/240 [==============================] - 1s 2ms/step - loss: 27.2498\n",
            "Epoch 61/100\n",
            "240/240 [==============================] - 0s 1ms/step - loss: 27.5341\n",
            "Epoch 62/100\n",
            "240/240 [==============================] - 0s 2ms/step - loss: 29.0618\n",
            "Epoch 63/100\n",
            "240/240 [==============================] - 0s 1ms/step - loss: 28.5755\n",
            "Epoch 64/100\n",
            "240/240 [==============================] - 0s 1ms/step - loss: 27.4191\n",
            "Epoch 65/100\n",
            "240/240 [==============================] - 0s 1ms/step - loss: 28.1913\n",
            "Epoch 66/100\n",
            "240/240 [==============================] - 0s 1ms/step - loss: 27.8031\n",
            "Epoch 67/100\n",
            "240/240 [==============================] - 0s 1ms/step - loss: 27.9088\n",
            "Epoch 68/100\n",
            "240/240 [==============================] - 0s 2ms/step - loss: 28.0023\n",
            "Epoch 69/100\n",
            "240/240 [==============================] - 0s 2ms/step - loss: 27.4081\n",
            "Epoch 70/100\n",
            "240/240 [==============================] - 0s 1ms/step - loss: 26.8858\n",
            "Epoch 71/100\n",
            "240/240 [==============================] - 0s 2ms/step - loss: 27.4191\n",
            "Epoch 72/100\n",
            "240/240 [==============================] - 0s 1ms/step - loss: 28.0387\n",
            "Epoch 73/100\n",
            "240/240 [==============================] - 0s 1ms/step - loss: 27.3145\n",
            "Epoch 74/100\n",
            "240/240 [==============================] - 0s 2ms/step - loss: 29.0035\n",
            "Epoch 75/100\n",
            "240/240 [==============================] - 0s 2ms/step - loss: 27.5151\n",
            "Epoch 76/100\n",
            "240/240 [==============================] - 0s 1ms/step - loss: 27.2547\n",
            "Epoch 77/100\n",
            "240/240 [==============================] - 0s 1ms/step - loss: 27.2000\n",
            "Epoch 78/100\n",
            "240/240 [==============================] - 0s 1ms/step - loss: 27.3833\n",
            "Epoch 79/100\n",
            "240/240 [==============================] - 0s 1ms/step - loss: 28.4995\n",
            "Epoch 80/100\n",
            "240/240 [==============================] - 0s 2ms/step - loss: 27.3625\n",
            "Epoch 81/100\n",
            "240/240 [==============================] - 0s 1ms/step - loss: 27.7780\n",
            "Epoch 82/100\n",
            "240/240 [==============================] - 0s 2ms/step - loss: 27.4925\n",
            "Epoch 83/100\n",
            "240/240 [==============================] - 0s 1ms/step - loss: 27.3801\n",
            "Epoch 84/100\n",
            "240/240 [==============================] - 0s 1ms/step - loss: 27.5872\n",
            "Epoch 85/100\n",
            "240/240 [==============================] - 0s 2ms/step - loss: 27.4975\n",
            "Epoch 86/100\n",
            "240/240 [==============================] - 0s 2ms/step - loss: 28.2071\n",
            "Epoch 87/100\n",
            "240/240 [==============================] - 1s 2ms/step - loss: 27.4963\n",
            "Epoch 88/100\n",
            "240/240 [==============================] - 1s 4ms/step - loss: 27.2801\n",
            "Epoch 89/100\n",
            "240/240 [==============================] - 1s 3ms/step - loss: 27.2960\n",
            "Epoch 90/100\n",
            "240/240 [==============================] - 1s 2ms/step - loss: 27.7856\n",
            "Epoch 91/100\n",
            "240/240 [==============================] - 0s 2ms/step - loss: 27.6481\n",
            "Epoch 92/100\n",
            "240/240 [==============================] - 1s 2ms/step - loss: 29.6726\n",
            "Epoch 93/100\n",
            "240/240 [==============================] - 1s 2ms/step - loss: 28.2040\n",
            "Epoch 94/100\n",
            "240/240 [==============================] - 1s 2ms/step - loss: 27.8400\n",
            "Epoch 95/100\n",
            "240/240 [==============================] - 0s 2ms/step - loss: 28.5529\n",
            "Epoch 96/100\n",
            "240/240 [==============================] - 0s 1ms/step - loss: 27.3505\n",
            "Epoch 97/100\n",
            "240/240 [==============================] - 0s 2ms/step - loss: 26.9774\n",
            "Epoch 98/100\n",
            "240/240 [==============================] - 0s 2ms/step - loss: 27.4032\n",
            "Epoch 99/100\n",
            "240/240 [==============================] - 1s 2ms/step - loss: 27.2857\n",
            "Epoch 100/100\n",
            "240/240 [==============================] - 0s 2ms/step - loss: 27.4083\n"
          ]
        },
        {
          "output_type": "execute_result",
          "data": {
            "text/plain": [
              "<keras.src.callbacks.History at 0x7c0d188b3b20>"
            ]
          },
          "metadata": {},
          "execution_count": 10
        }
      ]
    },
    {
      "cell_type": "markdown",
      "metadata": {
        "id": "0H0zKKNEBLD5"
      },
      "source": [
        "### Predicting the results of the Test set"
      ]
    },
    {
      "cell_type": "code",
      "metadata": {
        "id": "IA0yApEmBG1X",
        "colab": {
          "base_uri": "https://localhost:8080/"
        },
        "outputId": "e0b47a7c-f5d9-404e-8f0e-b25d678994e5"
      },
      "source": [
        "y_pred = ann.predict(X_test)\n",
        "np.set_printoptions(precision=2)\n",
        "print(np.concatenate((y_pred.reshape(len(y_pred),1), y_test.reshape(len(y_test),1)),1))"
      ],
      "execution_count": 11,
      "outputs": [
        {
          "output_type": "stream",
          "name": "stdout",
          "text": [
            "60/60 [==============================] - 0s 1ms/step\n",
            "[[430.24 431.23]\n",
            " [461.22 460.01]\n",
            " [464.7  461.14]\n",
            " ...\n",
            " [471.94 473.26]\n",
            " [438.76 438.  ]\n",
            " [457.96 463.28]]\n"
          ]
        }
      ]
    }
  ]
}